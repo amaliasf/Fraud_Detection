{
 "cells": [
  {
   "cell_type": "markdown",
   "metadata": {},
   "source": [
    "# Fraud Detection"
   ]
  },
  {
   "cell_type": "markdown",
   "metadata": {},
   "source": [
    "## Import Data"
   ]
  },
  {
   "cell_type": "code",
   "execution_count": 1,
   "metadata": {
    "ExecuteTime": {
     "end_time": "2022-02-16T23:56:46.839779Z",
     "start_time": "2022-02-16T23:56:46.834790Z"
    }
   },
   "outputs": [],
   "source": [
    "import pandas as pd"
   ]
  },
  {
   "cell_type": "code",
   "execution_count": 2,
   "metadata": {
    "ExecuteTime": {
     "end_time": "2022-02-16T23:56:49.385295Z",
     "start_time": "2022-02-16T23:56:49.204777Z"
    },
    "scrolled": false
   },
   "outputs": [
    {
     "data": {
      "text/html": [
       "<div>\n",
       "<style scoped>\n",
       "    .dataframe tbody tr th:only-of-type {\n",
       "        vertical-align: middle;\n",
       "    }\n",
       "\n",
       "    .dataframe tbody tr th {\n",
       "        vertical-align: top;\n",
       "    }\n",
       "\n",
       "    .dataframe thead th {\n",
       "        text-align: right;\n",
       "    }\n",
       "</style>\n",
       "<table border=\"1\" class=\"dataframe\">\n",
       "  <thead>\n",
       "    <tr style=\"text-align: right;\">\n",
       "      <th></th>\n",
       "      <th>Unnamed: 0</th>\n",
       "      <th>trans_date_trans_time</th>\n",
       "      <th>cc_num</th>\n",
       "      <th>merchant</th>\n",
       "      <th>category</th>\n",
       "      <th>amt</th>\n",
       "      <th>first</th>\n",
       "      <th>last</th>\n",
       "      <th>gender</th>\n",
       "      <th>street</th>\n",
       "      <th>...</th>\n",
       "      <th>lat</th>\n",
       "      <th>long</th>\n",
       "      <th>city_pop</th>\n",
       "      <th>job</th>\n",
       "      <th>dob</th>\n",
       "      <th>trans_num</th>\n",
       "      <th>unix_time</th>\n",
       "      <th>merch_lat</th>\n",
       "      <th>merch_long</th>\n",
       "      <th>is_fraud</th>\n",
       "    </tr>\n",
       "  </thead>\n",
       "  <tbody>\n",
       "    <tr>\n",
       "      <th>0</th>\n",
       "      <td>0</td>\n",
       "      <td>2019-01-01 00:00:18</td>\n",
       "      <td>2703186189652095</td>\n",
       "      <td>fraud_Rippin, Kub and Mann</td>\n",
       "      <td>misc_net</td>\n",
       "      <td>4.97</td>\n",
       "      <td>Jennifer</td>\n",
       "      <td>Banks</td>\n",
       "      <td>F</td>\n",
       "      <td>561 Perry Cove</td>\n",
       "      <td>...</td>\n",
       "      <td>36.0788</td>\n",
       "      <td>-81.1781</td>\n",
       "      <td>3495</td>\n",
       "      <td>Psychologist, counselling</td>\n",
       "      <td>1988-03-09</td>\n",
       "      <td>0b242abb623afc578575680df30655b9</td>\n",
       "      <td>1325376018</td>\n",
       "      <td>36.011293</td>\n",
       "      <td>-82.048315</td>\n",
       "      <td>0</td>\n",
       "    </tr>\n",
       "    <tr>\n",
       "      <th>1</th>\n",
       "      <td>1</td>\n",
       "      <td>2019-01-01 00:00:44</td>\n",
       "      <td>630423337322</td>\n",
       "      <td>fraud_Heller, Gutmann and Zieme</td>\n",
       "      <td>grocery_pos</td>\n",
       "      <td>107.23</td>\n",
       "      <td>Stephanie</td>\n",
       "      <td>Gill</td>\n",
       "      <td>F</td>\n",
       "      <td>43039 Riley Greens Suite 393</td>\n",
       "      <td>...</td>\n",
       "      <td>48.8878</td>\n",
       "      <td>-118.2105</td>\n",
       "      <td>149</td>\n",
       "      <td>Special educational needs teacher</td>\n",
       "      <td>1978-06-21</td>\n",
       "      <td>1f76529f8574734946361c461b024d99</td>\n",
       "      <td>1325376044</td>\n",
       "      <td>49.159047</td>\n",
       "      <td>-118.186462</td>\n",
       "      <td>0</td>\n",
       "    </tr>\n",
       "    <tr>\n",
       "      <th>2</th>\n",
       "      <td>2</td>\n",
       "      <td>2019-01-01 00:00:51</td>\n",
       "      <td>38859492057661</td>\n",
       "      <td>fraud_Lind-Buckridge</td>\n",
       "      <td>entertainment</td>\n",
       "      <td>220.11</td>\n",
       "      <td>Edward</td>\n",
       "      <td>Sanchez</td>\n",
       "      <td>M</td>\n",
       "      <td>594 White Dale Suite 530</td>\n",
       "      <td>...</td>\n",
       "      <td>42.1808</td>\n",
       "      <td>-112.2620</td>\n",
       "      <td>4154</td>\n",
       "      <td>Nature conservation officer</td>\n",
       "      <td>1962-01-19</td>\n",
       "      <td>a1a22d70485983eac12b5b88dad1cf95</td>\n",
       "      <td>1325376051</td>\n",
       "      <td>43.150704</td>\n",
       "      <td>-112.154481</td>\n",
       "      <td>0</td>\n",
       "    </tr>\n",
       "    <tr>\n",
       "      <th>3</th>\n",
       "      <td>3</td>\n",
       "      <td>2019-01-01 00:01:16</td>\n",
       "      <td>3534093764340240</td>\n",
       "      <td>fraud_Kutch, Hermiston and Farrell</td>\n",
       "      <td>gas_transport</td>\n",
       "      <td>45.00</td>\n",
       "      <td>Jeremy</td>\n",
       "      <td>White</td>\n",
       "      <td>M</td>\n",
       "      <td>9443 Cynthia Court Apt. 038</td>\n",
       "      <td>...</td>\n",
       "      <td>46.2306</td>\n",
       "      <td>-112.1138</td>\n",
       "      <td>1939</td>\n",
       "      <td>Patent attorney</td>\n",
       "      <td>1967-01-12</td>\n",
       "      <td>6b849c168bdad6f867558c3793159a81</td>\n",
       "      <td>1325376076</td>\n",
       "      <td>47.034331</td>\n",
       "      <td>-112.561071</td>\n",
       "      <td>0</td>\n",
       "    </tr>\n",
       "    <tr>\n",
       "      <th>4</th>\n",
       "      <td>4</td>\n",
       "      <td>2019-01-01 00:03:06</td>\n",
       "      <td>375534208663984</td>\n",
       "      <td>fraud_Keeling-Crist</td>\n",
       "      <td>misc_pos</td>\n",
       "      <td>41.96</td>\n",
       "      <td>Tyler</td>\n",
       "      <td>Garcia</td>\n",
       "      <td>M</td>\n",
       "      <td>408 Bradley Rest</td>\n",
       "      <td>...</td>\n",
       "      <td>38.4207</td>\n",
       "      <td>-79.4629</td>\n",
       "      <td>99</td>\n",
       "      <td>Dance movement psychotherapist</td>\n",
       "      <td>1986-03-28</td>\n",
       "      <td>a41d7549acf90789359a9aa5346dcb46</td>\n",
       "      <td>1325376186</td>\n",
       "      <td>38.674999</td>\n",
       "      <td>-78.632459</td>\n",
       "      <td>0</td>\n",
       "    </tr>\n",
       "  </tbody>\n",
       "</table>\n",
       "<p>5 rows × 23 columns</p>\n",
       "</div>"
      ],
      "text/plain": [
       "   Unnamed: 0 trans_date_trans_time            cc_num  \\\n",
       "0           0   2019-01-01 00:00:18  2703186189652095   \n",
       "1           1   2019-01-01 00:00:44      630423337322   \n",
       "2           2   2019-01-01 00:00:51    38859492057661   \n",
       "3           3   2019-01-01 00:01:16  3534093764340240   \n",
       "4           4   2019-01-01 00:03:06   375534208663984   \n",
       "\n",
       "                             merchant       category     amt      first  \\\n",
       "0          fraud_Rippin, Kub and Mann       misc_net    4.97   Jennifer   \n",
       "1     fraud_Heller, Gutmann and Zieme    grocery_pos  107.23  Stephanie   \n",
       "2                fraud_Lind-Buckridge  entertainment  220.11     Edward   \n",
       "3  fraud_Kutch, Hermiston and Farrell  gas_transport   45.00     Jeremy   \n",
       "4                 fraud_Keeling-Crist       misc_pos   41.96      Tyler   \n",
       "\n",
       "      last gender                        street  ...      lat      long  \\\n",
       "0    Banks      F                561 Perry Cove  ...  36.0788  -81.1781   \n",
       "1     Gill      F  43039 Riley Greens Suite 393  ...  48.8878 -118.2105   \n",
       "2  Sanchez      M      594 White Dale Suite 530  ...  42.1808 -112.2620   \n",
       "3    White      M   9443 Cynthia Court Apt. 038  ...  46.2306 -112.1138   \n",
       "4   Garcia      M              408 Bradley Rest  ...  38.4207  -79.4629   \n",
       "\n",
       "   city_pop                                job         dob  \\\n",
       "0      3495          Psychologist, counselling  1988-03-09   \n",
       "1       149  Special educational needs teacher  1978-06-21   \n",
       "2      4154        Nature conservation officer  1962-01-19   \n",
       "3      1939                    Patent attorney  1967-01-12   \n",
       "4        99     Dance movement psychotherapist  1986-03-28   \n",
       "\n",
       "                          trans_num   unix_time  merch_lat  merch_long  \\\n",
       "0  0b242abb623afc578575680df30655b9  1325376018  36.011293  -82.048315   \n",
       "1  1f76529f8574734946361c461b024d99  1325376044  49.159047 -118.186462   \n",
       "2  a1a22d70485983eac12b5b88dad1cf95  1325376051  43.150704 -112.154481   \n",
       "3  6b849c168bdad6f867558c3793159a81  1325376076  47.034331 -112.561071   \n",
       "4  a41d7549acf90789359a9aa5346dcb46  1325376186  38.674999  -78.632459   \n",
       "\n",
       "   is_fraud  \n",
       "0         0  \n",
       "1         0  \n",
       "2         0  \n",
       "3         0  \n",
       "4         0  \n",
       "\n",
       "[5 rows x 23 columns]"
      ]
     },
     "execution_count": 2,
     "metadata": {},
     "output_type": "execute_result"
    }
   ],
   "source": [
    "fraud_train = pd.read_csv(\"fraudTrain.csv\")\n",
    "fraud_test = pd.read_csv(\"fraud_test.csv\")\n",
    "fraud_train.head()"
   ]
  },
  {
   "cell_type": "code",
   "execution_count": 3,
   "metadata": {},
   "outputs": [
    {
     "name": "stdout",
     "output_type": "stream",
     "text": [
      "<class 'pandas.core.frame.DataFrame'>\n",
      "RangeIndex: 1296675 entries, 0 to 1296674\n",
      "Data columns (total 23 columns):\n",
      " #   Column                 Non-Null Count    Dtype  \n",
      "---  ------                 --------------    -----  \n",
      " 0   Unnamed: 0             1296675 non-null  int64  \n",
      " 1   trans_date_trans_time  1296675 non-null  object \n",
      " 2   cc_num                 1296675 non-null  int64  \n",
      " 3   merchant               1296675 non-null  object \n",
      " 4   category               1296675 non-null  object \n",
      " 5   amt                    1296675 non-null  float64\n",
      " 6   first                  1296675 non-null  object \n",
      " 7   last                   1296675 non-null  object \n",
      " 8   gender                 1296675 non-null  object \n",
      " 9   street                 1296675 non-null  object \n",
      " 10  city                   1296675 non-null  object \n",
      " 11  state                  1296675 non-null  object \n",
      " 12  zip                    1296675 non-null  int64  \n",
      " 13  lat                    1296675 non-null  float64\n",
      " 14  long                   1296675 non-null  float64\n",
      " 15  city_pop               1296675 non-null  int64  \n",
      " 16  job                    1296675 non-null  object \n",
      " 17  dob                    1296675 non-null  object \n",
      " 18  trans_num              1296675 non-null  object \n",
      " 19  unix_time              1296675 non-null  int64  \n",
      " 20  merch_lat              1296675 non-null  float64\n",
      " 21  merch_long             1296675 non-null  float64\n",
      " 22  is_fraud               1296675 non-null  int64  \n",
      "dtypes: float64(5), int64(6), object(12)\n",
      "memory usage: 227.5+ MB\n"
     ]
    }
   ],
   "source": [
    "fraud_train.info()"
   ]
  },
  {
   "cell_type": "code",
   "execution_count": 4,
   "metadata": {
    "ExecuteTime": {
     "end_time": "2022-02-16T23:57:05.899491Z",
     "start_time": "2022-02-16T23:57:05.881539Z"
    },
    "scrolled": false
   },
   "outputs": [
    {
     "name": "stdout",
     "output_type": "stream",
     "text": [
      "<class 'pandas.core.frame.DataFrame'>\n",
      "RangeIndex: 4290 entries, 0 to 4289\n",
      "Data columns (total 23 columns):\n",
      " #   Column                 Non-Null Count  Dtype  \n",
      "---  ------                 --------------  -----  \n",
      " 0   Unnamed: 0             4290 non-null   int64  \n",
      " 1   trans_date_trans_time  4290 non-null   object \n",
      " 2   cc_num                 4290 non-null   int64  \n",
      " 3   merchant               4290 non-null   object \n",
      " 4   category               4290 non-null   object \n",
      " 5   amt                    4290 non-null   float64\n",
      " 6   first                  4290 non-null   object \n",
      " 7   last                   4290 non-null   object \n",
      " 8   gender                 4290 non-null   object \n",
      " 9   street                 4290 non-null   object \n",
      " 10  city                   4290 non-null   object \n",
      " 11  state                  4290 non-null   object \n",
      " 12  zip                    4290 non-null   int64  \n",
      " 13  lat                    4290 non-null   float64\n",
      " 14  long                   4290 non-null   float64\n",
      " 15  city_pop               4290 non-null   int64  \n",
      " 16  job                    4290 non-null   object \n",
      " 17  dob                    4290 non-null   object \n",
      " 18  trans_num              4290 non-null   object \n",
      " 19  unix_time              4290 non-null   int64  \n",
      " 20  merch_lat              4290 non-null   float64\n",
      " 21  merch_long             4290 non-null   float64\n",
      " 22  is_fraud               4290 non-null   int64  \n",
      "dtypes: float64(5), int64(6), object(12)\n",
      "memory usage: 771.0+ KB\n"
     ]
    }
   ],
   "source": [
    "fraud_test.info()"
   ]
  },
  {
   "cell_type": "code",
   "execution_count": 5,
   "metadata": {
    "scrolled": false
   },
   "outputs": [
    {
     "name": "stdout",
     "output_type": "stream",
     "text": [
      "(4290, 23)\n",
      "(1296675, 23)\n"
     ]
    },
    {
     "data": {
      "text/plain": [
       "(None, None)"
      ]
     },
     "execution_count": 5,
     "metadata": {},
     "output_type": "execute_result"
    }
   ],
   "source": [
    "print(fraud_test.shape),print(fraud_train.shape)"
   ]
  },
  {
   "cell_type": "markdown",
   "metadata": {},
   "source": [
    "## Data Cleaning & Data Wrangling"
   ]
  },
  {
   "cell_type": "code",
   "execution_count": 6,
   "metadata": {},
   "outputs": [
    {
     "data": {
      "text/plain": [
       "0"
      ]
     },
     "execution_count": 6,
     "metadata": {},
     "output_type": "execute_result"
    }
   ],
   "source": [
    "fraud_train.isnull().sum().sum()"
   ]
  },
  {
   "cell_type": "code",
   "execution_count": 7,
   "metadata": {
    "scrolled": true
   },
   "outputs": [
    {
     "data": {
      "text/plain": [
       "0"
      ]
     },
     "execution_count": 7,
     "metadata": {},
     "output_type": "execute_result"
    }
   ],
   "source": [
    "fraud_test.isnull().sum().sum()"
   ]
  },
  {
   "cell_type": "code",
   "execution_count": 8,
   "metadata": {},
   "outputs": [],
   "source": [
    "fraud_train['trans_date_trans_time']=pd.to_datetime(fraud_train['trans_date_trans_time'])\n",
    "fraud_train['trans_date']=fraud_train['trans_date_trans_time'].dt.strftime('%Y-%m-%d')\n",
    "fraud_train['trans_date']=pd.to_datetime(fraud_train['trans_date'])\n",
    "fraud_train['dob']=pd.to_datetime(fraud_train['dob'])\n",
    "\n",
    "fraud_test['trans_date_trans_time']=pd.to_datetime(fraud_test['trans_date_trans_time'])\n",
    "fraud_test['trans_date']=fraud_test['trans_date_trans_time'].dt.strftime('%Y-%m-%d')\n",
    "fraud_test['trans_date']=pd.to_datetime(fraud_test['trans_date'])\n",
    "fraud_test['dob']=pd.to_datetime(fraud_test['dob'])"
   ]
  },
  {
   "cell_type": "code",
   "execution_count": 9,
   "metadata": {},
   "outputs": [],
   "source": [
    "fraud_train.drop(\"Unnamed: 0\",axis=1,inplace=True)\n",
    "fraud_test.drop(\"Unnamed: 0\",axis=1,inplace=True)"
   ]
  },
  {
   "cell_type": "code",
   "execution_count": 10,
   "metadata": {},
   "outputs": [
    {
     "data": {
      "text/plain": [
       "0       Yes\n",
       "1        No\n",
       "2       Yes\n",
       "3        No\n",
       "4       Yes\n",
       "       ... \n",
       "4285     No\n",
       "4286    Yes\n",
       "4287     No\n",
       "4288     No\n",
       "4289     No\n",
       "Name: is_fraud, Length: 4290, dtype: object"
      ]
     },
     "execution_count": 10,
     "metadata": {},
     "output_type": "execute_result"
    }
   ],
   "source": [
    "fraud_train[\"is_fraud\"]=fraud_train.is_fraud.apply(lambda x: \"Yes\" if x==1 else \"No\")\n",
    "fraud_test[\"is_fraud\"]=fraud_test.is_fraud.apply(lambda x: \"Yes\" if x==1 else \"No\")\n",
    "\n",
    "fraud_train[\"is_fraud\"].astype(\"object\")\n",
    "fraud_test[\"is_fraud\"].astype(\"object\")"
   ]
  },
  {
   "cell_type": "code",
   "execution_count": 11,
   "metadata": {},
   "outputs": [],
   "source": [
    "fraud_train[\"age\"] = fraud_train[\"trans_date\"]- fraud_train[\"dob\"]\n",
    "fraud_train[\"age\"]= fraud_train[\"age\"].astype('timedelta64[Y]')\n",
    "\n",
    "fraud_test[\"age\"] = fraud_test[\"trans_date\"]- fraud_test[\"dob\"]\n",
    "fraud_test[\"age\"]= fraud_test[\"age\"].astype('timedelta64[Y]')"
   ]
  },
  {
   "cell_type": "code",
   "execution_count": 12,
   "metadata": {},
   "outputs": [],
   "source": [
    "fraud_train['trans_month'] = fraud_train['trans_date'].dt.month\n",
    "fraud_train['trans_year'] = fraud_train['trans_date'].dt.year\n",
    "\n",
    "fraud_test['trans_month'] = fraud_test['trans_date'].dt.month\n",
    "fraud_test['trans_year'] = fraud_test['trans_date'].dt.year"
   ]
  },
  {
   "cell_type": "code",
   "execution_count": 13,
   "metadata": {},
   "outputs": [],
   "source": [
    "fraud_train['latitudinal_distance'] = abs(round(fraud_train['merch_lat']-fraud_train['lat'],3))\n",
    "fraud_train['longitudinal_distance'] = abs(round(fraud_train['merch_long']-fraud_train['long'],3))\n",
    "\n",
    "fraud_test['latitudinal_distance'] = abs(round(fraud_test['merch_lat']-fraud_test['lat'],3))\n",
    "fraud_test['longitudinal_distance'] = abs(round(fraud_test['merch_long']-fraud_test['long'],3))"
   ]
  },
  {
   "cell_type": "code",
   "execution_count": 14,
   "metadata": {
    "scrolled": true
   },
   "outputs": [],
   "source": [
    "drop_cols = ['trans_date_trans_time','trans_num','city','lat','long','job','dob','merch_lat','merch_long','trans_date','state']\n",
    "fraud_train=fraud_train.drop(drop_cols,axis=1)\n",
    "fraud_test=fraud_test.drop(drop_cols,axis=1)"
   ]
  },
  {
   "cell_type": "markdown",
   "metadata": {},
   "source": [
    "### DROP VARIABLE"
   ]
  },
  {
   "cell_type": "code",
   "execution_count": 15,
   "metadata": {
    "ExecuteTime": {
     "end_time": "2022-02-16T23:57:17.074180Z",
     "start_time": "2022-02-16T23:57:17.069224Z"
    }
   },
   "outputs": [],
   "source": [
    "fraud_train.drop(['merchant','first','last','street','zip','unix_time'],axis=1,inplace=True)\n",
    "fraud_test.drop(['merchant','first','last','street','zip','unix_time'],axis=1,inplace=True)"
   ]
  },
  {
   "cell_type": "code",
   "execution_count": 16,
   "metadata": {},
   "outputs": [
    {
     "name": "stdout",
     "output_type": "stream",
     "text": [
      "<class 'pandas.core.frame.DataFrame'>\n",
      "RangeIndex: 4290 entries, 0 to 4289\n",
      "Data columns (total 11 columns):\n",
      " #   Column                 Non-Null Count  Dtype  \n",
      "---  ------                 --------------  -----  \n",
      " 0   cc_num                 4290 non-null   int64  \n",
      " 1   category               4290 non-null   object \n",
      " 2   amt                    4290 non-null   float64\n",
      " 3   gender                 4290 non-null   object \n",
      " 4   city_pop               4290 non-null   int64  \n",
      " 5   is_fraud               4290 non-null   object \n",
      " 6   age                    4290 non-null   float64\n",
      " 7   trans_month            4290 non-null   int64  \n",
      " 8   trans_year             4290 non-null   int64  \n",
      " 9   latitudinal_distance   4290 non-null   float64\n",
      " 10  longitudinal_distance  4290 non-null   float64\n",
      "dtypes: float64(4), int64(4), object(3)\n",
      "memory usage: 368.8+ KB\n"
     ]
    }
   ],
   "source": [
    "fraud_test.info()"
   ]
  },
  {
   "cell_type": "code",
   "execution_count": 17,
   "metadata": {},
   "outputs": [],
   "source": [
    "cat_cols = ['category','gender']"
   ]
  },
  {
   "cell_type": "code",
   "execution_count": 18,
   "metadata": {
    "ExecuteTime": {
     "end_time": "2022-02-16T23:57:27.361924Z",
     "start_time": "2022-02-16T23:57:27.322923Z"
    }
   },
   "outputs": [],
   "source": [
    "fraud_train[cat_cols] = fraud_train[cat_cols].astype(\"category\")\n",
    "fraud_train['is_fraud'] = fraud_train['is_fraud'].astype(\"category\")\n",
    "fraud_test[cat_cols] = fraud_test[cat_cols].astype(\"category\")\n",
    "fraud_test['is_fraud'] = fraud_test['is_fraud'].astype(\"category\")"
   ]
  },
  {
   "cell_type": "markdown",
   "metadata": {},
   "source": [
    "## Train Test Inisialization"
   ]
  },
  {
   "cell_type": "code",
   "execution_count": 19,
   "metadata": {
    "ExecuteTime": {
     "end_time": "2022-02-17T00:13:24.981709Z",
     "start_time": "2022-02-17T00:13:24.971757Z"
    }
   },
   "outputs": [],
   "source": [
    "X = fraud_train.drop('is_fraud', axis=1)\n",
    "y = fraud_train['is_fraud']\n",
    "\n",
    "X_unseen = fraud_test.drop('is_fraud', axis=1)\n",
    "y_unseen = fraud_test['is_fraud']"
   ]
  },
  {
   "cell_type": "code",
   "execution_count": 20,
   "metadata": {
    "ExecuteTime": {
     "end_time": "2022-02-17T00:13:29.399829Z",
     "start_time": "2022-02-17T00:13:29.377890Z"
    }
   },
   "outputs": [
    {
     "name": "stdout",
     "output_type": "stream",
     "text": [
      "(1037340, 10)\n",
      "(259335, 10)\n",
      "(1037340,)\n",
      "(259335,)\n"
     ]
    }
   ],
   "source": [
    "from sklearn.model_selection import train_test_split\n",
    "\n",
    "X_train, X_test, y_train, y_test = train_test_split(X, y, test_size=0.2, random_state=123)\n",
    "\n",
    "print(X_train.shape)\n",
    "print(X_test.shape)\n",
    "print(y_train.shape)\n",
    "print(y_test.shape)"
   ]
  },
  {
   "cell_type": "code",
   "execution_count": 21,
   "metadata": {},
   "outputs": [
    {
     "name": "stdout",
     "output_type": "stream",
     "text": [
      "<class 'pandas.core.frame.DataFrame'>\n",
      "RangeIndex: 1296675 entries, 0 to 1296674\n",
      "Data columns (total 10 columns):\n",
      " #   Column                 Non-Null Count    Dtype   \n",
      "---  ------                 --------------    -----   \n",
      " 0   cc_num                 1296675 non-null  int64   \n",
      " 1   category               1296675 non-null  category\n",
      " 2   amt                    1296675 non-null  float64 \n",
      " 3   gender                 1296675 non-null  category\n",
      " 4   city_pop               1296675 non-null  int64   \n",
      " 5   age                    1296675 non-null  float64 \n",
      " 6   trans_month            1296675 non-null  int64   \n",
      " 7   trans_year             1296675 non-null  int64   \n",
      " 8   latitudinal_distance   1296675 non-null  float64 \n",
      " 9   longitudinal_distance  1296675 non-null  float64 \n",
      "dtypes: category(2), float64(4), int64(4)\n",
      "memory usage: 81.6 MB\n"
     ]
    }
   ],
   "source": [
    "X.info()"
   ]
  },
  {
   "cell_type": "code",
   "execution_count": 22,
   "metadata": {
    "ExecuteTime": {
     "end_time": "2022-02-17T00:13:35.261617Z",
     "start_time": "2022-02-17T00:13:35.249649Z"
    },
    "scrolled": true
   },
   "outputs": [
    {
     "data": {
      "text/plain": [
       "No     0.994181\n",
       "Yes    0.005819\n",
       "Name: is_fraud, dtype: float64"
      ]
     },
     "execution_count": 22,
     "metadata": {},
     "output_type": "execute_result"
    }
   ],
   "source": [
    "y_train.value_counts(normalize=True)"
   ]
  },
  {
   "cell_type": "code",
   "execution_count": 23,
   "metadata": {
    "ExecuteTime": {
     "end_time": "2022-02-17T00:13:37.284800Z",
     "start_time": "2022-02-17T00:13:37.180802Z"
    },
    "scrolled": true
   },
   "outputs": [
    {
     "name": "stderr",
     "output_type": "stream",
     "text": [
      "C:\\Users\\asus\\AppData\\Local\\Programs\\Python\\Python310\\lib\\site-packages\\sklearn\\utils\\deprecation.py:87: FutureWarning: Function get_feature_names is deprecated; get_feature_names is deprecated in 1.0 and will be removed in 1.2. Please use get_feature_names_out instead.\n",
      "  warnings.warn(msg, category=FutureWarning)\n"
     ]
    },
    {
     "data": {
      "text/html": [
       "<div>\n",
       "<style scoped>\n",
       "    .dataframe tbody tr th:only-of-type {\n",
       "        vertical-align: middle;\n",
       "    }\n",
       "\n",
       "    .dataframe tbody tr th {\n",
       "        vertical-align: top;\n",
       "    }\n",
       "\n",
       "    .dataframe thead th {\n",
       "        text-align: right;\n",
       "    }\n",
       "</style>\n",
       "<table border=\"1\" class=\"dataframe\">\n",
       "  <thead>\n",
       "    <tr style=\"text-align: right;\">\n",
       "      <th></th>\n",
       "      <th>cc_num</th>\n",
       "      <th>amt</th>\n",
       "      <th>city_pop</th>\n",
       "      <th>age</th>\n",
       "      <th>trans_month</th>\n",
       "      <th>trans_year</th>\n",
       "      <th>latitudinal_distance</th>\n",
       "      <th>longitudinal_distance</th>\n",
       "      <th>category_food_dining</th>\n",
       "      <th>category_gas_transport</th>\n",
       "      <th>...</th>\n",
       "      <th>category_health_fitness</th>\n",
       "      <th>category_home</th>\n",
       "      <th>category_kids_pets</th>\n",
       "      <th>category_misc_net</th>\n",
       "      <th>category_misc_pos</th>\n",
       "      <th>category_personal_care</th>\n",
       "      <th>category_shopping_net</th>\n",
       "      <th>category_shopping_pos</th>\n",
       "      <th>category_travel</th>\n",
       "      <th>gender_M</th>\n",
       "    </tr>\n",
       "  </thead>\n",
       "  <tbody>\n",
       "    <tr>\n",
       "      <th>1158821</th>\n",
       "      <td>4260059589824237</td>\n",
       "      <td>99.77</td>\n",
       "      <td>4005</td>\n",
       "      <td>75.0</td>\n",
       "      <td>4</td>\n",
       "      <td>2020</td>\n",
       "      <td>0.950</td>\n",
       "      <td>0.804</td>\n",
       "      <td>0.0</td>\n",
       "      <td>1.0</td>\n",
       "      <td>...</td>\n",
       "      <td>0.0</td>\n",
       "      <td>0.0</td>\n",
       "      <td>0.0</td>\n",
       "      <td>0.0</td>\n",
       "      <td>0.0</td>\n",
       "      <td>0.0</td>\n",
       "      <td>0.0</td>\n",
       "      <td>0.0</td>\n",
       "      <td>0.0</td>\n",
       "      <td>1.0</td>\n",
       "    </tr>\n",
       "    <tr>\n",
       "      <th>181052</th>\n",
       "      <td>4958589671582726883</td>\n",
       "      <td>132.98</td>\n",
       "      <td>43102</td>\n",
       "      <td>68.0</td>\n",
       "      <td>4</td>\n",
       "      <td>2019</td>\n",
       "      <td>0.775</td>\n",
       "      <td>0.571</td>\n",
       "      <td>0.0</td>\n",
       "      <td>0.0</td>\n",
       "      <td>...</td>\n",
       "      <td>1.0</td>\n",
       "      <td>0.0</td>\n",
       "      <td>0.0</td>\n",
       "      <td>0.0</td>\n",
       "      <td>0.0</td>\n",
       "      <td>0.0</td>\n",
       "      <td>0.0</td>\n",
       "      <td>0.0</td>\n",
       "      <td>0.0</td>\n",
       "      <td>1.0</td>\n",
       "    </tr>\n",
       "    <tr>\n",
       "      <th>874052</th>\n",
       "      <td>341283058448499</td>\n",
       "      <td>9.03</td>\n",
       "      <td>1461</td>\n",
       "      <td>84.0</td>\n",
       "      <td>12</td>\n",
       "      <td>2019</td>\n",
       "      <td>0.599</td>\n",
       "      <td>0.016</td>\n",
       "      <td>0.0</td>\n",
       "      <td>0.0</td>\n",
       "      <td>...</td>\n",
       "      <td>0.0</td>\n",
       "      <td>0.0</td>\n",
       "      <td>0.0</td>\n",
       "      <td>0.0</td>\n",
       "      <td>0.0</td>\n",
       "      <td>0.0</td>\n",
       "      <td>0.0</td>\n",
       "      <td>1.0</td>\n",
       "      <td>0.0</td>\n",
       "      <td>1.0</td>\n",
       "    </tr>\n",
       "    <tr>\n",
       "      <th>839608</th>\n",
       "      <td>4745996322265</td>\n",
       "      <td>1.29</td>\n",
       "      <td>1423</td>\n",
       "      <td>21.0</td>\n",
       "      <td>12</td>\n",
       "      <td>2019</td>\n",
       "      <td>0.786</td>\n",
       "      <td>0.560</td>\n",
       "      <td>0.0</td>\n",
       "      <td>0.0</td>\n",
       "      <td>...</td>\n",
       "      <td>0.0</td>\n",
       "      <td>0.0</td>\n",
       "      <td>0.0</td>\n",
       "      <td>0.0</td>\n",
       "      <td>0.0</td>\n",
       "      <td>0.0</td>\n",
       "      <td>1.0</td>\n",
       "      <td>0.0</td>\n",
       "      <td>0.0</td>\n",
       "      <td>0.0</td>\n",
       "    </tr>\n",
       "    <tr>\n",
       "      <th>1162492</th>\n",
       "      <td>2720433095629877</td>\n",
       "      <td>6.15</td>\n",
       "      <td>3224</td>\n",
       "      <td>22.0</td>\n",
       "      <td>4</td>\n",
       "      <td>2020</td>\n",
       "      <td>0.178</td>\n",
       "      <td>0.538</td>\n",
       "      <td>0.0</td>\n",
       "      <td>0.0</td>\n",
       "      <td>...</td>\n",
       "      <td>0.0</td>\n",
       "      <td>0.0</td>\n",
       "      <td>0.0</td>\n",
       "      <td>0.0</td>\n",
       "      <td>0.0</td>\n",
       "      <td>0.0</td>\n",
       "      <td>0.0</td>\n",
       "      <td>1.0</td>\n",
       "      <td>0.0</td>\n",
       "      <td>1.0</td>\n",
       "    </tr>\n",
       "  </tbody>\n",
       "</table>\n",
       "<p>5 rows × 22 columns</p>\n",
       "</div>"
      ],
      "text/plain": [
       "                      cc_num     amt  city_pop   age  trans_month  trans_year  \\\n",
       "1158821     4260059589824237   99.77      4005  75.0            4        2020   \n",
       "181052   4958589671582726883  132.98     43102  68.0            4        2019   \n",
       "874052       341283058448499    9.03      1461  84.0           12        2019   \n",
       "839608         4745996322265    1.29      1423  21.0           12        2019   \n",
       "1162492     2720433095629877    6.15      3224  22.0            4        2020   \n",
       "\n",
       "         latitudinal_distance  longitudinal_distance  category_food_dining  \\\n",
       "1158821                 0.950                  0.804                   0.0   \n",
       "181052                  0.775                  0.571                   0.0   \n",
       "874052                  0.599                  0.016                   0.0   \n",
       "839608                  0.786                  0.560                   0.0   \n",
       "1162492                 0.178                  0.538                   0.0   \n",
       "\n",
       "         category_gas_transport  ...  category_health_fitness  category_home  \\\n",
       "1158821                     1.0  ...                      0.0            0.0   \n",
       "181052                      0.0  ...                      1.0            0.0   \n",
       "874052                      0.0  ...                      0.0            0.0   \n",
       "839608                      0.0  ...                      0.0            0.0   \n",
       "1162492                     0.0  ...                      0.0            0.0   \n",
       "\n",
       "         category_kids_pets  category_misc_net  category_misc_pos  \\\n",
       "1158821                 0.0                0.0                0.0   \n",
       "181052                  0.0                0.0                0.0   \n",
       "874052                  0.0                0.0                0.0   \n",
       "839608                  0.0                0.0                0.0   \n",
       "1162492                 0.0                0.0                0.0   \n",
       "\n",
       "         category_personal_care  category_shopping_net  category_shopping_pos  \\\n",
       "1158821                     0.0                    0.0                    0.0   \n",
       "181052                      0.0                    0.0                    0.0   \n",
       "874052                      0.0                    0.0                    1.0   \n",
       "839608                      0.0                    1.0                    0.0   \n",
       "1162492                     0.0                    0.0                    1.0   \n",
       "\n",
       "         category_travel  gender_M  \n",
       "1158821              0.0       1.0  \n",
       "181052               0.0       1.0  \n",
       "874052               0.0       1.0  \n",
       "839608               0.0       0.0  \n",
       "1162492              0.0       1.0  \n",
       "\n",
       "[5 rows x 22 columns]"
      ]
     },
     "execution_count": 23,
     "metadata": {},
     "output_type": "execute_result"
    }
   ],
   "source": [
    "from sklearn.preprocessing import OneHotEncoder\n",
    "\n",
    "encoder = OneHotEncoder(drop='first', sparse=False)\n",
    "encoder.fit(X_train[cat_cols])\n",
    "\n",
    "X_train_encoded = pd.DataFrame(encoder.transform(X_train[cat_cols]),\n",
    "                               index=X_train.index,\n",
    "                               columns=encoder.get_feature_names(X_train[cat_cols].columns))\n",
    "X_train_dummy = pd.concat([X_train.select_dtypes(exclude='category'),\n",
    "                           X_train_encoded], axis=1)\n",
    "X_train_dummy.head()\n"
   ]
  },
  {
   "cell_type": "code",
   "execution_count": 24,
   "metadata": {
    "ExecuteTime": {
     "end_time": "2022-02-17T00:13:39.999959Z",
     "start_time": "2022-02-17T00:13:39.971036Z"
    }
   },
   "outputs": [
    {
     "name": "stderr",
     "output_type": "stream",
     "text": [
      "C:\\Users\\asus\\AppData\\Local\\Programs\\Python\\Python310\\lib\\site-packages\\sklearn\\utils\\deprecation.py:87: FutureWarning: Function get_feature_names is deprecated; get_feature_names is deprecated in 1.0 and will be removed in 1.2. Please use get_feature_names_out instead.\n",
      "  warnings.warn(msg, category=FutureWarning)\n"
     ]
    },
    {
     "data": {
      "text/plain": [
       "(259335, 22)"
      ]
     },
     "execution_count": 24,
     "metadata": {},
     "output_type": "execute_result"
    }
   ],
   "source": [
    "X_test_encoded = pd.DataFrame(encoder.transform(X_test[cat_cols]),\n",
    "                               index=X_test.index,\n",
    "                               columns=encoder.get_feature_names(X_test[cat_cols].columns))\n",
    "X_test_dummy = pd.concat([X_test.select_dtypes(exclude='category'),\n",
    "                           X_test_encoded], axis=1)\n",
    "X_test_dummy.shape"
   ]
  },
  {
   "cell_type": "code",
   "execution_count": 25,
   "metadata": {
    "ExecuteTime": {
     "end_time": "2022-02-17T00:15:43.292149Z",
     "start_time": "2022-02-17T00:15:43.265228Z"
    },
    "scrolled": true
   },
   "outputs": [
    {
     "name": "stderr",
     "output_type": "stream",
     "text": [
      "C:\\Users\\asus\\AppData\\Local\\Programs\\Python\\Python310\\lib\\site-packages\\sklearn\\utils\\deprecation.py:87: FutureWarning: Function get_feature_names is deprecated; get_feature_names is deprecated in 1.0 and will be removed in 1.2. Please use get_feature_names_out instead.\n",
      "  warnings.warn(msg, category=FutureWarning)\n"
     ]
    },
    {
     "data": {
      "text/plain": [
       "(4290, 22)"
      ]
     },
     "execution_count": 25,
     "metadata": {},
     "output_type": "execute_result"
    }
   ],
   "source": [
    "X_unseen_encoded = pd.DataFrame(encoder.transform(X_unseen[cat_cols]),\n",
    "                               index=X_unseen.index,\n",
    "                               columns=encoder.get_feature_names(X_unseen[cat_cols].columns))\n",
    "X_unseen_dummy = pd.concat([X_unseen.select_dtypes(exclude='category'),\n",
    "                           X_unseen_encoded], axis=1)\n",
    "X_unseen_dummy.shape"
   ]
  },
  {
   "cell_type": "markdown",
   "metadata": {},
   "source": [
    "## Decision Tree Model Solution"
   ]
  },
  {
   "cell_type": "code",
   "execution_count": 26,
   "metadata": {
    "ExecuteTime": {
     "end_time": "2022-02-17T00:13:42.532834Z",
     "start_time": "2022-02-17T00:13:42.497994Z"
    }
   },
   "outputs": [
    {
     "data": {
      "text/plain": [
       "DecisionTreeClassifier(criterion='entropy', max_depth=2, random_state=100)"
      ]
     },
     "execution_count": 26,
     "metadata": {},
     "output_type": "execute_result"
    }
   ],
   "source": [
    "from sklearn.tree import DecisionTreeClassifier\n",
    "\n",
    "dt_employee = DecisionTreeClassifier(criterion='entropy', max_depth=2, random_state=100)\n",
    "dt_employee.fit(X_train_dummy, y_train)"
   ]
  },
  {
   "cell_type": "code",
   "execution_count": 27,
   "metadata": {
    "ExecuteTime": {
     "end_time": "2022-02-17T00:13:43.870348Z",
     "start_time": "2022-02-17T00:13:43.854393Z"
    }
   },
   "outputs": [],
   "source": [
    "y_pred_dt = dt_employee.predict(X_test_dummy)\n",
    "y_pred_prob_dt = dt_employee.predict_proba(X_test_dummy)"
   ]
  },
  {
   "cell_type": "code",
   "execution_count": 28,
   "metadata": {
    "ExecuteTime": {
     "end_time": "2022-02-17T00:13:45.344252Z",
     "start_time": "2022-02-17T00:13:45.322312Z"
    }
   },
   "outputs": [
    {
     "data": {
      "text/plain": [
       "0.995473036805676"
      ]
     },
     "execution_count": 28,
     "metadata": {},
     "output_type": "execute_result"
    }
   ],
   "source": [
    "dt_employee.score(X_train_dummy, y_train)"
   ]
  },
  {
   "cell_type": "code",
   "execution_count": 29,
   "metadata": {
    "ExecuteTime": {
     "end_time": "2022-02-17T00:13:47.458559Z",
     "start_time": "2022-02-17T00:13:47.443895Z"
    }
   },
   "outputs": [
    {
     "data": {
      "text/plain": [
       "0.9955771492471128"
      ]
     },
     "execution_count": 29,
     "metadata": {},
     "output_type": "execute_result"
    }
   ],
   "source": [
    "dt_employee.score(X_test_dummy, y_test)"
   ]
  },
  {
   "cell_type": "code",
   "execution_count": 30,
   "metadata": {
    "ExecuteTime": {
     "end_time": "2022-02-17T00:13:48.896770Z",
     "start_time": "2022-02-17T00:13:48.861447Z"
    }
   },
   "outputs": [
    {
     "name": "stdout",
     "output_type": "stream",
     "text": [
      "Recall : 0.2307819748177601\n",
      "Presisi : 0.9633471645919779\n",
      "Accuracy : 0.995473036805676\n"
     ]
    }
   ],
   "source": [
    "from sklearn.metrics import accuracy_score, precision_score, recall_score, f1_score, classification_report\n",
    "y_pred_train = dt_employee.predict(X_train_dummy)\n",
    "print(\"Recall :\" , recall_score(y_true=y_train, y_pred=y_pred_train, pos_label='Yes'))\n",
    "print(\"Presisi :\" ,precision_score(y_true=y_train, y_pred=y_pred_train, pos_label='Yes'))\n",
    "print(\"Accuracy :\",accuracy_score(y_true=y_train, y_pred=y_pred_train))"
   ]
  },
  {
   "cell_type": "code",
   "execution_count": 31,
   "metadata": {
    "ExecuteTime": {
     "end_time": "2022-02-17T00:13:50.909262Z",
     "start_time": "2022-02-17T00:13:50.881305Z"
    }
   },
   "outputs": [
    {
     "name": "stdout",
     "output_type": "stream",
     "text": [
      "Recall : 0.22789115646258504\n",
      "Presisi : 0.9654178674351584\n",
      "Accuracy : 0.9955771492471128\n"
     ]
    }
   ],
   "source": [
    "# test performance\n",
    "y_pred_test = dt_employee.predict(X_test_dummy)\n",
    "print(\"Recall :\" , recall_score(y_true=y_test, y_pred=y_pred_test, pos_label='Yes'))\n",
    "print(\"Presisi :\" , precision_score(y_true=y_test, y_pred=y_pred_test, pos_label='Yes'))\n",
    "print(\"Accuracy :\", accuracy_score(y_true=y_test, y_pred=y_pred_test))"
   ]
  },
  {
   "cell_type": "markdown",
   "metadata": {},
   "source": [
    "## Random Forest Solution"
   ]
  },
  {
   "cell_type": "code",
   "execution_count": 32,
   "metadata": {
    "ExecuteTime": {
     "end_time": "2022-02-17T00:14:02.532575Z",
     "start_time": "2022-02-17T00:13:59.656835Z"
    }
   },
   "outputs": [
    {
     "data": {
      "text/plain": [
       "RandomForestClassifier(oob_score=True, random_state=100)"
      ]
     },
     "execution_count": 32,
     "metadata": {},
     "output_type": "execute_result"
    }
   ],
   "source": [
    "from sklearn.ensemble import RandomForestClassifier\n",
    "\n",
    "rf_employee = RandomForestClassifier(random_state=100, oob_score=True)\n",
    "rf_employee.fit(X_train_dummy, y_train)"
   ]
  },
  {
   "cell_type": "code",
   "execution_count": 33,
   "metadata": {
    "ExecuteTime": {
     "end_time": "2022-02-17T00:14:03.159118Z",
     "start_time": "2022-02-17T00:14:02.537557Z"
    }
   },
   "outputs": [
    {
     "name": "stdout",
     "output_type": "stream",
     "text": [
      "Recall : 0.9998343273691186\n",
      "Presisi : 1.0\n",
      "Accuracy : 0.9999990359959127\n"
     ]
    }
   ],
   "source": [
    "# training performance\n",
    "y_pred_rf_train = rf_employee.predict(X_train_dummy)\n",
    "\n",
    "print(\"Recall :\" , recall_score(y_true=y_train, y_pred=y_pred_rf_train, pos_label='Yes'))\n",
    "print(\"Presisi :\" ,precision_score(y_true=y_train, y_pred=y_pred_rf_train, pos_label='Yes'))\n",
    "print(\"Accuracy :\",accuracy_score(y_true=y_train, y_pred=y_pred_rf_train))\n"
   ]
  },
  {
   "cell_type": "code",
   "execution_count": 34,
   "metadata": {
    "ExecuteTime": {
     "end_time": "2022-02-17T00:14:03.595929Z",
     "start_time": "2022-02-17T00:14:03.452271Z"
    },
    "scrolled": true
   },
   "outputs": [
    {
     "name": "stdout",
     "output_type": "stream",
     "text": [
      "Recall : 0.6687074829931973\n",
      "Presisi : 0.8503460207612457\n",
      "Accuracy : 0.9974550292093238\n"
     ]
    }
   ],
   "source": [
    "# test performance\n",
    "\n",
    "y_pred_rf_test = rf_employee.predict(X_test_dummy)\n",
    "\n",
    "print(\"Recall :\" , recall_score(y_true=y_test, y_pred=y_pred_rf_test, pos_label='Yes'))\n",
    "print(\"Presisi :\" , precision_score(y_true=y_test, y_pred=y_pred_rf_test, pos_label='Yes'))\n",
    "print(\"Accuracy :\", accuracy_score(y_true=y_test, y_pred=y_pred_rf_test))"
   ]
  },
  {
   "cell_type": "markdown",
   "metadata": {},
   "source": [
    "## Improve Model with Balanced Data"
   ]
  },
  {
   "cell_type": "code",
   "execution_count": 35,
   "metadata": {
    "ExecuteTime": {
     "end_time": "2022-02-17T00:14:07.560437Z",
     "start_time": "2022-02-17T00:14:07.508221Z"
    },
    "scrolled": true
   },
   "outputs": [
    {
     "data": {
      "text/plain": [
       "No     1031304\n",
       "Yes    1031304\n",
       "Name: is_fraud, dtype: int64"
      ]
     },
     "execution_count": 35,
     "metadata": {},
     "output_type": "execute_result"
    }
   ],
   "source": [
    "from imblearn.over_sampling import RandomOverSampler\n",
    "\n",
    "oversampler = RandomOverSampler(random_state=100)\n",
    "X_train_up, y_train_up = oversampler.fit_resample(X_train_dummy, y_train)\n",
    "y_train_up.value_counts()"
   ]
  },
  {
   "cell_type": "markdown",
   "metadata": {},
   "source": [
    "## Decision Tree"
   ]
  },
  {
   "cell_type": "code",
   "execution_count": null,
   "metadata": {
    "ExecuteTime": {
     "end_time": "2022-02-17T00:14:09.537923Z",
     "start_time": "2022-02-17T00:14:09.436302Z"
    }
   },
   "outputs": [],
   "source": [
    "dt_employee_up = DecisionTreeClassifier(criterion='entropy', max_depth=7, random_state=100)\n",
    "dt_employee_up.fit(X_train_up, y_train_up)"
   ]
  },
  {
   "cell_type": "code",
   "execution_count": null,
   "metadata": {
    "ExecuteTime": {
     "end_time": "2022-02-17T00:14:10.838380Z",
     "start_time": "2022-02-17T00:14:10.793810Z"
    }
   },
   "outputs": [],
   "source": [
    "y_pred_train_up = dt_employee_up.predict(X_train_up)\n",
    "print(\"Recall :\" , recall_score(y_true=y_train_up, y_pred=y_pred_train_up, pos_label='Yes'))\n",
    "print(\"Presisi :\" ,precision_score(y_true=y_train_up, y_pred=y_pred_train_up, pos_label='Yes'))\n",
    "print(\"Accuracy :\",accuracy_score(y_true=y_train_up, y_pred=y_pred_train_up))"
   ]
  },
  {
   "cell_type": "code",
   "execution_count": null,
   "metadata": {
    "ExecuteTime": {
     "end_time": "2022-02-17T00:14:13.646953Z",
     "start_time": "2022-02-17T00:14:13.624013Z"
    }
   },
   "outputs": [],
   "source": [
    "# test performance\n",
    "\n",
    "y_pred_dt_test_up = dt_employee_up.predict(X_test_dummy)\n",
    "\n",
    "print(\"Recall :\" , recall_score(y_true=y_test, y_pred=y_pred_dt_test_up, pos_label='Yes'))\n",
    "print(\"Presisi :\" , precision_score(y_true=y_test, y_pred=y_pred_dt_test_up, pos_label='Yes'))\n",
    "print(\"Accuracy :\", accuracy_score(y_true=y_test, y_pred=y_pred_dt_test_up))"
   ]
  },
  {
   "cell_type": "code",
   "execution_count": null,
   "metadata": {
    "ExecuteTime": {
     "end_time": "2022-02-17T00:16:36.963938Z",
     "start_time": "2022-02-17T00:16:36.939005Z"
    }
   },
   "outputs": [],
   "source": [
    "y_pred_dt_test_up_unseen = dt_employee_up.predict(X_unseen_dummy)\n",
    "\n",
    "print(\"Recall :\" , recall_score(y_true=y_unseen, y_pred=y_pred_dt_test_up_unseen, pos_label='Yes'))\n",
    "print(\"Presisi :\" , precision_score(y_true=y_unseen, y_pred=y_pred_dt_test_up_unseen, pos_label='Yes'))\n",
    "print(\"Accuracy :\", accuracy_score(y_true=y_unseen, y_pred=y_pred_dt_test_up_unseen))"
   ]
  },
  {
   "cell_type": "markdown",
   "metadata": {},
   "source": [
    "## Random Forest\n"
   ]
  },
  {
   "cell_type": "code",
   "execution_count": null,
   "metadata": {
    "ExecuteTime": {
     "end_time": "2022-02-17T00:03:33.120134Z",
     "start_time": "2022-02-17T00:03:27.728734Z"
    }
   },
   "outputs": [],
   "source": [
    "rf_employee_up = RandomForestClassifier(random_state=100, oob_score=True)\n",
    "rf_employee_up.fit(X_train_up, y_train_up)"
   ]
  },
  {
   "cell_type": "code",
   "execution_count": null,
   "metadata": {
    "ExecuteTime": {
     "end_time": "2022-02-17T00:03:34.311523Z",
     "start_time": "2022-02-17T00:03:33.130110Z"
    }
   },
   "outputs": [],
   "source": [
    "y_pred_train_up_rf = rf_employee_up.predict(X_train_up)\n",
    "print(\"Recall :\" , recall_score(y_true=y_train_up, y_pred=y_pred_train_up_rf, pos_label='Yes'))\n",
    "print(\"Presisi :\" ,precision_score(y_true=y_train_up, y_pred=y_pred_train_up_rf, pos_label='Yes'))\n",
    "print(\"Accuracy :\",accuracy_score(y_true=y_train_up, y_pred=y_pred_train_up_rf))"
   ]
  },
  {
   "cell_type": "code",
   "execution_count": null,
   "metadata": {
    "ExecuteTime": {
     "end_time": "2022-02-17T00:03:35.957237Z",
     "start_time": "2022-02-17T00:03:35.873888Z"
    }
   },
   "outputs": [],
   "source": [
    "# test performance\n",
    "\n",
    "y_pred_rf_test_up = rf_employee_up.predict(X_test_dummy)\n",
    "\n",
    "print(\"Recall :\" , recall_score(y_true=y_test, y_pred=y_pred_rf_test_up, pos_label='Yes'))\n",
    "print(\"Presisi :\" , precision_score(y_true=y_test, y_pred=y_pred_rf_test_up, pos_label='Yes'))\n",
    "print(\"Accuracy :\", accuracy_score(y_true=y_test, y_pred=y_pred_rf_test_up))"
   ]
  },
  {
   "cell_type": "markdown",
   "metadata": {},
   "source": [
    "## Random Forest with Best Parameters "
   ]
  },
  {
   "cell_type": "code",
   "execution_count": null,
   "metadata": {},
   "outputs": [
    {
     "name": "stdout",
     "output_type": "stream",
     "text": [
      "Fitting 3 folds for each of 4 candidates, totalling 12 fits\n",
      "[CV 1/3] END criterion=entropy, max_depth=24, max_features=sqrt, min_samples_leaf=12, min_samples_split=32;, score=0.998 total time=11.1min\n",
      "[CV 2/3] END criterion=entropy, max_depth=24, max_features=sqrt, min_samples_leaf=12, min_samples_split=32;, score=0.997 total time= 8.2min\n"
     ]
    }
   ],
   "source": [
    "from sklearn.ensemble import RandomForestClassifier\n",
    "from sklearn.model_selection import RandomizedSearchCV\n",
    "\n",
    "# hyperparameter distributions\n",
    "param_random_rf = {\n",
    "    'criterion' : ['gini', 'entropy'],\n",
    "    'max_depth': range(10, 50),\n",
    "    'min_samples_split': range(2, 50),\n",
    "    'min_samples_leaf': range(2, 50),\n",
    "    'max_features': ['sqrt', 'log2']\n",
    "    }\n",
    "\n",
    "rfc = RandomForestClassifier(random_state=123, oob_score=True)\n",
    "\n",
    "model_rf_random_up = RandomizedSearchCV(\n",
    "    estimator=rfc,\n",
    "    param_distributions=param_random_rf,\n",
    "    n_iter=4,\n",
    "    cv=3,\n",
    "    verbose=3,\n",
    "    random_state=123)\n",
    "\n",
    "model_rf_random_up.fit(X_train_up, y_train_up)"
   ]
  },
  {
   "cell_type": "code",
   "execution_count": null,
   "metadata": {},
   "outputs": [],
   "source": [
    "from sklearn.metrics import accuracy_score, precision_score, recall_score, f1_score, classification_report\n",
    "\n",
    "y_pred_rf_test_up = model_rf_random_up.predict(X_test_dummy)\n",
    "\n",
    "print(\"Recall :\" , recall_score(y_true=y_test, y_pred=y_pred_rf_test_up, pos_label='Yes'))\n",
    "print(\"Presisi :\" , precision_score(y_true=y_test, y_pred=y_pred_rf_test_up, pos_label='Yes'))\n",
    "print(\"Accuracy :\", accuracy_score(y_true=y_test, y_pred=y_pred_rf_test_up))"
   ]
  },
  {
   "cell_type": "code",
   "execution_count": null,
   "metadata": {},
   "outputs": [],
   "source": [
    "import joblib"
   ]
  },
  {
   "cell_type": "code",
   "execution_count": null,
   "metadata": {},
   "outputs": [],
   "source": [
    "joblib.dump(model_rf_random_up,'model_rf_random')"
   ]
  }
 ],
 "metadata": {
  "kernelspec": {
   "display_name": "algoritma-pln",
   "language": "python",
   "name": "algoritma-pln"
  },
  "language_info": {
   "codemirror_mode": {
    "name": "ipython",
    "version": 3
   },
   "file_extension": ".py",
   "mimetype": "text/x-python",
   "name": "python",
   "nbconvert_exporter": "python",
   "pygments_lexer": "ipython3",
   "version": "3.10.0"
  },
  "latex_envs": {
   "LaTeX_envs_menu_present": true,
   "autoclose": false,
   "autocomplete": true,
   "bibliofile": "biblio.bib",
   "cite_by": "apalike",
   "current_citInitial": 1,
   "eqLabelWithNumbers": true,
   "eqNumInitial": 1,
   "hotkeys": {
    "equation": "Ctrl-E",
    "itemize": "Ctrl-I"
   },
   "labels_anchors": false,
   "latex_user_defs": false,
   "report_style_numbering": false,
   "user_envs_cfg": false
  },
  "toc": {
   "base_numbering": 1,
   "nav_menu": {},
   "number_sections": true,
   "sideBar": true,
   "skip_h1_title": false,
   "title_cell": "Table of Contents",
   "title_sidebar": "Contents",
   "toc_cell": false,
   "toc_position": {},
   "toc_section_display": true,
   "toc_window_display": true
  }
 },
 "nbformat": 4,
 "nbformat_minor": 5
}
